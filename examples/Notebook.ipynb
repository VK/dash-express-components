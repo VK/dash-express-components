{
 "cells": [
  {
   "cell_type": "markdown",
   "metadata": {},
   "source": [
    "# Dash Express Jupyter Example"
   ]
  },
  {
   "cell_type": "code",
   "execution_count": 1,
   "metadata": {},
   "outputs": [
    {
     "ename": "ModuleNotFoundError",
     "evalue": "No module named 'dash_express_components'",
     "output_type": "error",
     "traceback": [
      "\u001b[1;31m---------------------------------------------------------------------------\u001b[0m",
      "\u001b[1;31mModuleNotFoundError\u001b[0m                       Traceback (most recent call last)",
      "\u001b[1;32m~\\AppData\\Local\\Temp\\ipykernel_14912\\2626128976.py\u001b[0m in \u001b[0;36m<module>\u001b[1;34m\u001b[0m\n\u001b[0;32m      1\u001b[0m \u001b[1;32mfrom\u001b[0m \u001b[0mjupyter_dash\u001b[0m \u001b[1;32mimport\u001b[0m \u001b[0mJupyterDash\u001b[0m\u001b[1;33m\u001b[0m\u001b[1;33m\u001b[0m\u001b[0m\n\u001b[0;32m      2\u001b[0m \u001b[1;33m\u001b[0m\u001b[0m\n\u001b[1;32m----> 3\u001b[1;33m \u001b[1;32mimport\u001b[0m \u001b[0mdash_express_components\u001b[0m \u001b[1;32mas\u001b[0m \u001b[0mdxc\u001b[0m\u001b[1;33m\u001b[0m\u001b[1;33m\u001b[0m\u001b[0m\n\u001b[0m\u001b[0;32m      4\u001b[0m \u001b[1;32mimport\u001b[0m \u001b[0mplotly\u001b[0m\u001b[1;33m.\u001b[0m\u001b[0mexpress\u001b[0m \u001b[1;32mas\u001b[0m \u001b[0mpx\u001b[0m\u001b[1;33m\u001b[0m\u001b[1;33m\u001b[0m\u001b[0m\n\u001b[0;32m      5\u001b[0m \u001b[1;32mfrom\u001b[0m \u001b[0mdash\u001b[0m \u001b[1;32mimport\u001b[0m \u001b[0mhtml\u001b[0m\u001b[1;33m,\u001b[0m \u001b[0mInput\u001b[0m\u001b[1;33m,\u001b[0m \u001b[0mOutput\u001b[0m\u001b[1;33m\u001b[0m\u001b[1;33m\u001b[0m\u001b[0m\n",
      "\u001b[1;31mModuleNotFoundError\u001b[0m: No module named 'dash_express_components'"
     ]
    }
   ],
   "source": [
    "from jupyter_dash import JupyterDash\n",
    "\n",
    "import dash_express_components as dxc\n",
    "import plotly.express as px\n",
    "from dash import html, Input, Output\n",
    "import json\n",
    "from dash.exceptions import PreventUpdate\n"
   ]
  },
  {
   "cell_type": "markdown",
   "metadata": {},
   "source": [
    "Load data and define initial plot configuration"
   ]
  },
  {
   "cell_type": "code",
   "execution_count": null,
   "metadata": {},
   "outputs": [],
   "source": [
    "df = px.data.gapminder()\n",
    "meta = dxc.get_meta(df)\n",
    "\n",
    "initial_config = {\n",
    "    'filter': [{'col': 'continent', 'type': 'isnotin', 'value': ['Oceania']}],\n",
    "    'transform': [],\n",
    "    'plot': {\n",
    "        'type': 'scatter',\n",
    "        'params': {\n",
    "            'x': 'lifeExp', 'y': 'pop',\n",
    "            'color': 'country',\n",
    "            'facet_col': 'continent', 'facet_col_wrap': 2,\n",
    "            'log_y': True, 'render_mode': 'webgl'}\n",
    "    }\n",
    "}\n"
   ]
  },
  {
   "cell_type": "markdown",
   "metadata": {},
   "source": [
    "\n",
    "Construct the app and callbacks"
   ]
  },
  {
   "cell_type": "code",
   "execution_count": null,
   "metadata": {},
   "outputs": [],
   "source": [
    "app = JupyterDash(\n",
    "    external_stylesheets=[\n",
    "        \"https://cdn.jsdelivr.net/npm/bootstrap@5.1.3/dist/css/bootstrap.min.css\"]\n",
    ")\n",
    "\n",
    "app.layout = html.Div([\n",
    "    dxc.Graph(\n",
    "        id=\"fig\",\n",
    "        meta=meta,\n",
    "        style={\"height\": \"100%\", \"width\": \"100%\"},\n",
    "        defParams=initial_config\n",
    "    )],\n",
    "    style={\"width\": \"100%\", \"height\": \"650px\", \"display\": \"inline-block\", \"float\": \"left\"}\n",
    ")\n",
    "\n",
    "@app.callback(\n",
    "    Output('fig', 'figure'),   Input('fig', 'defParams')\n",
    ")\n",
    "def update_fig(config):\n",
    "    try:\n",
    "        fig = dxc.get_plot(df, config)\n",
    "        if fig:\n",
    "            return fig\n",
    "        raise PreventUpdate\n",
    "    except:\n",
    "        raise PreventUpdate\n"
   ]
  },
  {
   "cell_type": "markdown",
   "metadata": {},
   "source": [
    "By default, `run_server` displays a URL that you can click on to open the app in a browser tab. The mode argument to `run_server` can be used to change this behavior. Setting `mode=\"inline\"` will display the app directly in the notebook output cell."
   ]
  },
  {
   "cell_type": "code",
   "execution_count": null,
   "metadata": {},
   "outputs": [],
   "source": [
    "app.run_server(mode=\"inline\", port=1234)\n"
   ]
  },
  {
   "cell_type": "markdown",
   "metadata": {},
   "source": [
    "When running in JupyterLab, with the jupyterlab-dash extension, setting `mode=\"jupyterlab\"` will open the app in a tab in JupyterLab."
   ]
  },
  {
   "cell_type": "code",
   "execution_count": null,
   "metadata": {},
   "outputs": [],
   "source": [
    "# app.run_server(mode=\"jupyterlab\")"
   ]
  }
 ],
 "metadata": {
  "interpreter": {
   "hash": "30c71e7f21cc671edaf52b0cd29212a6d15f4cb538321db65837585a6d7653c8"
  },
  "kernelspec": {
   "display_name": "Python 3.9.5 64-bit",
   "language": "python",
   "name": "python3"
  },
  "language_info": {
   "codemirror_mode": {
    "name": "ipython",
    "version": 3
   },
   "file_extension": ".py",
   "mimetype": "text/x-python",
   "name": "python",
   "nbconvert_exporter": "python",
   "pygments_lexer": "ipython3",
   "version": "3.7.9"
  },
  "orig_nbformat": 4
 },
 "nbformat": 4,
 "nbformat_minor": 2
}
